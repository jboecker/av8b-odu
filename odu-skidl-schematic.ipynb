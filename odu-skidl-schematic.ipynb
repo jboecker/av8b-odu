{
 "cells": [
  {
   "cell_type": "code",
   "execution_count": 2,
   "metadata": {},
   "outputs": [
    {
     "name": "stderr",
     "output_type": "stream",
     "text": [
      "WARNING: KICAD_SYMBOL_DIR environment variable is missing, so the default KiCad symbol libraries won't be searched.\n"
     ]
    }
   ],
   "source": []
  },
  {
   "cell_type": "code",
   "execution_count": 4,
   "metadata": {},
   "outputs": [
    {
     "name": "stdout",
     "output_type": "stream",
     "text": [
      "U1\n",
      "U2\n",
      "U3\n",
      "U4\n",
      "U5\n",
      "U6\n",
      "U7\n",
      "U8\n",
      "U9\n",
      "U10\n"
     ]
    },
    {
     "name": "stderr",
     "output_type": "stream",
     "text": [
      "\n",
      "1 warnings found during netlist generation.\n",
      "2 errors found during netlist generation.\n",
      "\n"
     ]
    },
    {
     "data": {
      "text/plain": [
       "'(export (version D)\\n  (design\\n    (source \"D:\\\\data\\\\cnc\\\\av8b-odu\\\\odu-pcb\\\\skidl\")\\n    (date \"09/18/2019 01:24 AM\")\\n    (tool \"SKiDL (0.0.26)\"))\\n  (components\\n    (comp (ref BTN1)\\n      (value SW_Push)\\n      (footprint odu-pcb:SW_PUSH_6mm_h4.3mm)\\n      (fields\\n        (field (name description) \"Push button switch, generic, two pins\")\\n        (field (name keywords) \"switch normally-open pushbutton push-button\"))\\n      (libsource (lib my-symbols) (part SW_Push))\\n      (sheetpath (names /top/760476574430446048) (tstamps /top/760476574430446048)))\\n    (comp (ref BTN2)\\n      (value SW_Push)\\n      (footprint odu-pcb:SW_PUSH_6mm_h4.3mm)\\n      (fields\\n        (field (name description) \"Push button switch, generic, two pins\")\\n        (field (name keywords) \"switch normally-open pushbutton push-button\"))\\n      (libsource (lib my-symbols) (part SW_Push))\\n      (sheetpath (names /top/5523131080258180380) (tstamps /top/5523131080258180380)))\\n    (comp (ref BTN3)\\n      (value SW_Push)\\n      (footprint odu-pcb:SW_PUSH_6mm_h4.3mm)\\n      (fields\\n        (field (name description) \"Push button switch, generic, two pins\")\\n        (field (name keywords) \"switch normally-open pushbutton push-button\"))\\n      (libsource (lib my-symbols) (part SW_Push))\\n      (sheetpath (names /top/15240815094884889663) (tstamps /top/15240815094884889663)))\\n    (comp (ref BTN4)\\n      (value SW_Push)\\n      (footprint odu-pcb:SW_PUSH_6mm_h4.3mm)\\n      (fields\\n        (field (name description) \"Push button switch, generic, two pins\")\\n        (field (name keywords) \"switch normally-open pushbutton push-button\"))\\n      (libsource (lib my-symbols) (part SW_Push))\\n      (sheetpath (names /top/4092230023091186600) (tstamps /top/4092230023091186600)))\\n    (comp (ref BTN5)\\n      (value SW_Push)\\n      (footprint odu-pcb:SW_PUSH_6mm_h4.3mm)\\n      (fields\\n        (field (name description) \"Push button switch, generic, two pins\")\\n        (field (name keywords) \"switch normally-open pushbutton push-button\"))\\n      (libsource (lib my-symbols) (part SW_Push))\\n      (sheetpath (names /top/10056397470806600642) (tstamps /top/10056397470806600642)))\\n    (comp (ref U1)\\n      (value HCMS)\\n      (footprint odu-pcb:HCMS_DIP-12_W7.62mm_Socket_LongPads)\\n      (libsource (lib my-symbols) (part HCMS))\\n      (sheetpath (names /top/9734280104350917481) (tstamps /top/9734280104350917481)))\\n    (comp (ref U10)\\n      (value HCMS)\\n      (footprint odu-pcb:HCMS_DIP-12_W7.62mm_Socket_LongPads)\\n      (libsource (lib my-symbols) (part HCMS))\\n      (sheetpath (names /top/14627754748941897758) (tstamps /top/14627754748941897758)))\\n    (comp (ref U2)\\n      (value HCMS)\\n      (footprint odu-pcb:HCMS_DIP-12_W7.62mm_Socket_LongPads)\\n      (libsource (lib my-symbols) (part HCMS))\\n      (sheetpath (names /top/4535764024260317184) (tstamps /top/4535764024260317184)))\\n    (comp (ref U3)\\n      (value HCMS)\\n      (footprint odu-pcb:HCMS_DIP-12_W7.62mm_Socket_LongPads)\\n      (libsource (lib my-symbols) (part HCMS))\\n      (sheetpath (names /top/17022582044184383919) (tstamps /top/17022582044184383919)))\\n    (comp (ref U4)\\n      (value HCMS)\\n      (footprint odu-pcb:HCMS_DIP-12_W7.62mm_Socket_LongPads)\\n      (libsource (lib my-symbols) (part HCMS))\\n      (sheetpath (names /top/17380129563818241875) (tstamps /top/17380129563818241875)))\\n    (comp (ref U5)\\n      (value HCMS)\\n      (footprint odu-pcb:HCMS_DIP-12_W7.62mm_Socket_LongPads)\\n      (libsource (lib my-symbols) (part HCMS))\\n      (sheetpath (names /top/17364779108115278708) (tstamps /top/17364779108115278708)))\\n    (comp (ref U6)\\n      (value HCMS)\\n      (footprint odu-pcb:HCMS_DIP-12_W7.62mm_Socket_LongPads)\\n      (libsource (lib my-symbols) (part HCMS))\\n      (sheetpath (names /top/11904159859009321312) (tstamps /top/11904159859009321312)))\\n    (comp (ref U7)\\n      (value HCMS)\\n      (footprint odu-pcb:HCMS_DIP-12_W7.62mm_Socket_LongPads)\\n      (libsource (lib my-symbols) (part HCMS))\\n      (sheetpath (names /top/11043467717005432709) (tstamps /top/11043467717005432709)))\\n    (comp (ref U8)\\n      (value HCMS)\\n      (footprint odu-pcb:HCMS_DIP-12_W7.62mm_Socket_LongPads)\\n      (libsource (lib my-symbols) (part HCMS))\\n      (sheetpath (names /top/13311106081444544073) (tstamps /top/13311106081444544073)))\\n    (comp (ref U9)\\n      (value HCMS)\\n      (footprint odu-pcb:HCMS_DIP-12_W7.62mm_Socket_LongPads)\\n      (libsource (lib my-symbols) (part HCMS))\\n      (sheetpath (names /top/5520316626861320423) (tstamps /top/5520316626861320423))))\\n  (nets\\n    (net (code 0) (name BTN_1)\\n      (node (ref BTN1) (pin 2)))\\n    (net (code 1) (name BTN_2)\\n      (node (ref BTN2) (pin 2)))\\n    (net (code 2) (name BTN_3)\\n      (node (ref BTN3) (pin 2)))\\n    (net (code 3) (name BTN_4)\\n      (node (ref BTN4) (pin 2)))\\n    (net (code 4) (name BTN_5)\\n      (node (ref BTN5) (pin 2)))\\n    (net (code 5) (name CE)\\n      (node (ref U1) (pin 7))\\n      (node (ref U10) (pin 7))\\n      (node (ref U2) (pin 7))\\n      (node (ref U3) (pin 7))\\n      (node (ref U4) (pin 7))\\n      (node (ref U5) (pin 7))\\n      (node (ref U6) (pin 7))\\n      (node (ref U7) (pin 7))\\n      (node (ref U8) (pin 7))\\n      (node (ref U9) (pin 7)))\\n    (net (code 6) (name CLK)\\n      (node (ref U1) (pin 6))\\n      (node (ref U10) (pin 6))\\n      (node (ref U2) (pin 6))\\n      (node (ref U3) (pin 6))\\n      (node (ref U4) (pin 6))\\n      (node (ref U5) (pin 6))\\n      (node (ref U6) (pin 6))\\n      (node (ref U7) (pin 6))\\n      (node (ref U8) (pin 6))\\n      (node (ref U9) (pin 6)))\\n    (net (code 7) (name DIN_U1)\\n      (node (ref U1) (pin 4)))\\n    (net (code 8) (name DOUTU1_TO_DINU2)\\n      (node (ref U1) (pin 1))\\n      (node (ref U2) (pin 4)))\\n    (net (code 9) (name DOUTU2_TO_DINU3)\\n      (node (ref U2) (pin 1))\\n      (node (ref U3) (pin 4)))\\n    (net (code 10) (name DOUTU3_TO_DINU4)\\n      (node (ref U3) (pin 1))\\n      (node (ref U4) (pin 4)))\\n    (net (code 11) (name DOUTU4_TO_DINU5)\\n      (node (ref U4) (pin 1))\\n      (node (ref U5) (pin 4)))\\n    (net (code 12) (name DOUTU5_TO_DINU6)\\n      (node (ref U5) (pin 1))\\n      (node (ref U6) (pin 4)))\\n    (net (code 13) (name DOUTU6_TO_DINU7)\\n      (node (ref U6) (pin 1))\\n      (node (ref U7) (pin 4)))\\n    (net (code 14) (name DOUTU7_TO_DINU8)\\n      (node (ref U7) (pin 1))\\n      (node (ref U8) (pin 4)))\\n    (net (code 15) (name DOUTU8_TO_DINU9)\\n      (node (ref U8) (pin 1))\\n      (node (ref U9) (pin 4)))\\n    (net (code 16) (name DOUTU9_TO_DINU10)\\n      (node (ref U10) (pin 4))\\n      (node (ref U9) (pin 1)))\\n    (net (code 17) (name GND)\\n      (node (ref BTN1) (pin 1))\\n      (node (ref BTN2) (pin 1))\\n      (node (ref BTN3) (pin 1))\\n      (node (ref BTN4) (pin 1))\\n      (node (ref BTN5) (pin 1))\\n      (node (ref U1) (pin 8))\\n      (node (ref U1) (pin 9))\\n      (node (ref U10) (pin 8))\\n      (node (ref U10) (pin 9))\\n      (node (ref U2) (pin 8))\\n      (node (ref U2) (pin 9))\\n      (node (ref U3) (pin 8))\\n      (node (ref U3) (pin 9))\\n      (node (ref U4) (pin 8))\\n      (node (ref U4) (pin 9))\\n      (node (ref U5) (pin 8))\\n      (node (ref U5) (pin 9))\\n      (node (ref U6) (pin 8))\\n      (node (ref U6) (pin 9))\\n      (node (ref U7) (pin 8))\\n      (node (ref U7) (pin 9))\\n      (node (ref U8) (pin 8))\\n      (node (ref U8) (pin 9))\\n      (node (ref U9) (pin 8))\\n      (node (ref U9) (pin 9)))\\n    (net (code 18) (name RESET)\\n      (node (ref U1) (pin 12))\\n      (node (ref U10) (pin 12))\\n      (node (ref U2) (pin 12))\\n      (node (ref U3) (pin 12))\\n      (node (ref U4) (pin 12))\\n      (node (ref U5) (pin 12))\\n      (node (ref U6) (pin 12))\\n      (node (ref U7) (pin 12))\\n      (node (ref U8) (pin 12))\\n      (node (ref U9) (pin 12)))\\n    (net (code 19) (name RS)\\n      (node (ref U1) (pin 5))\\n      (node (ref U10) (pin 5))\\n      (node (ref U2) (pin 5))\\n      (node (ref U3) (pin 5))\\n      (node (ref U4) (pin 5))\\n      (node (ref U5) (pin 5))\\n      (node (ref U6) (pin 5))\\n      (node (ref U7) (pin 5))\\n      (node (ref U8) (pin 5))\\n      (node (ref U9) (pin 5)))\\n    (net (code 20) (name VCC)\\n      (node (ref U1) (pin 10))\\n      (node (ref U1) (pin 11))\\n      (node (ref U1) (pin 3))\\n      (node (ref U10) (pin 10))\\n      (node (ref U10) (pin 11))\\n      (node (ref U10) (pin 3))\\n      (node (ref U2) (pin 10))\\n      (node (ref U2) (pin 11))\\n      (node (ref U2) (pin 3))\\n      (node (ref U3) (pin 10))\\n      (node (ref U3) (pin 11))\\n      (node (ref U3) (pin 3))\\n      (node (ref U4) (pin 10))\\n      (node (ref U4) (pin 11))\\n      (node (ref U4) (pin 3))\\n      (node (ref U5) (pin 10))\\n      (node (ref U5) (pin 11))\\n      (node (ref U5) (pin 3))\\n      (node (ref U6) (pin 10))\\n      (node (ref U6) (pin 11))\\n      (node (ref U6) (pin 3))\\n      (node (ref U7) (pin 10))\\n      (node (ref U7) (pin 11))\\n      (node (ref U7) (pin 3))\\n      (node (ref U8) (pin 10))\\n      (node (ref U8) (pin 11))\\n      (node (ref U8) (pin 3))\\n      (node (ref U9) (pin 10))\\n      (node (ref U9) (pin 11))\\n      (node (ref U9) (pin 3))))\\n)\\n'"
      ]
     },
     "execution_count": 4,
     "metadata": {},
     "output_type": "execute_result"
    }
   ],
   "source": [
    "import skidl\n",
    "skidl.reset()\n",
    "\n",
    "def make_hcms():\n",
    "    return skidl.Part('my-symbols', 'HCMS', footprint='odu-pcb:HCMS_DIP-12_W7.62mm_Socket_LongPads')\n",
    "\n",
    "def make_button():\n",
    "    return skidl.Part('my-symbols', 'SW_Push', footprint='odu-pcb:SW_PUSH_6mm_h4.3mm')\n",
    "   \n",
    "vcc = skidl.Net('VCC')\n",
    "gnd = skidl.Net('GND')\n",
    "ce = skidl.Net('CE')\n",
    "rs = skidl.Net('RS')\n",
    "clk = skidl.Net('CLK')\n",
    "reset = skidl.Net('RESET')\n",
    "din_u1 = skidl.Net('DIN_U1')\n",
    "\n",
    "buttons = []\n",
    "for i in range(5):\n",
    "    b = make_button()\n",
    "    b.ref = \"BTN%d\" % (i+1)\n",
    "    b['1'] += gnd\n",
    "    b['2'] += skidl.Net('BTN_%d' % (i+1))\n",
    "    buttons.append(b)\n",
    "\n",
    "    \n",
    "\n",
    "\n",
    "displays = []\n",
    "for i in range(10):\n",
    "    displays.append(make_hcms())\n",
    "    \n",
    "\n",
    "for d in displays:\n",
    "    print(d.ref)\n",
    "    d['V_LOGIC'] += vcc\n",
    "    d['V_LED'] += vcc\n",
    "    d['GND'] += gnd\n",
    "    d['SEL'] += vcc\n",
    "    d['/CE'] += ce\n",
    "    d['BLANK'] += gnd\n",
    "    d['RESET'] += reset\n",
    "    d['RS'] += rs\n",
    "    d['CLK'] += clk\n",
    "\n",
    "for a, b in zip(displays, displays[1:]):\n",
    "    net = skidl.Net('DOUT%s_TO_DIN%s' % (a.ref, b.ref))\n",
    "    a['DATA_OUT'] += net\n",
    "    b['DATA_IN'] += net\n",
    "displays[0]['DATA_IN'] += din_u1\n",
    "    \n",
    "skidl.generate_netlist()\n",
    "    "
   ]
  }
 ],
 "metadata": {
  "kernelspec": {
   "display_name": "Python 3",
   "language": "python",
   "name": "python3"
  },
  "language_info": {
   "codemirror_mode": {
    "name": "ipython",
    "version": 3
   },
   "file_extension": ".py",
   "mimetype": "text/x-python",
   "name": "python",
   "nbconvert_exporter": "python",
   "pygments_lexer": "ipython3",
   "version": "3.7.3"
  }
 },
 "nbformat": 4,
 "nbformat_minor": 2
}
