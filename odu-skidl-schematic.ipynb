{
 "cells": [
  {
   "cell_type": "code",
   "execution_count": 2,
   "metadata": {},
   "outputs": [
    {
     "name": "stderr",
     "output_type": "stream",
     "text": [
      "WARNING: KICAD_SYMBOL_DIR environment variable is missing, so the default KiCad symbol libraries won't be searched.\n"
     ]
    }
   ],
   "source": [
    "import skidl"
   ]
  },
  {
   "cell_type": "code",
   "execution_count": 8,
   "metadata": {},
   "outputs": [
    {
     "name": "stdout",
     "output_type": "stream",
     "text": [
      "U1\n",
      "U2\n",
      "U3\n",
      "U4\n",
      "U5\n",
      "U6\n",
      "U7\n",
      "U8\n",
      "U9\n",
      "U10\n"
     ]
    },
    {
     "name": "stderr",
     "output_type": "stream",
     "text": [
      "\n",
      "1 warnings found during netlist generation.\n",
      "0 errors found during netlist generation.\n",
      "\n"
     ]
    },
    {
     "data": {
      "text/plain": [
       "'(export (version D)\\n  (design\\n    (source \"D:\\\\data\\\\cnc\\\\av8b-odu\\\\odu-pcb\\\\skidl\")\\n    (date \"09/16/2019 12:30 AM\")\\n    (tool \"SKiDL (0.0.26)\"))\\n  (components\\n    (comp (ref U1)\\n      (value HCMS)\\n      (footprint odu-pcb:HCMS_DIP-12_W7.62mm_Socket_LongPads)\\n      (libsource (lib my-symbols) (part HCMS))\\n      (sheetpath (names /top/5234478152499228561) (tstamps /top/5234478152499228561)))\\n    (comp (ref U10)\\n      (value HCMS)\\n      (footprint odu-pcb:HCMS_DIP-12_W7.62mm_Socket_LongPads)\\n      (libsource (lib my-symbols) (part HCMS))\\n      (sheetpath (names /top/17508783317562345360) (tstamps /top/17508783317562345360)))\\n    (comp (ref U2)\\n      (value HCMS)\\n      (footprint odu-pcb:HCMS_DIP-12_W7.62mm_Socket_LongPads)\\n      (libsource (lib my-symbols) (part HCMS))\\n      (sheetpath (names /top/17104542680013843275) (tstamps /top/17104542680013843275)))\\n    (comp (ref U3)\\n      (value HCMS)\\n      (footprint odu-pcb:HCMS_DIP-12_W7.62mm_Socket_LongPads)\\n      (libsource (lib my-symbols) (part HCMS))\\n      (sheetpath (names /top/6832435385466929879) (tstamps /top/6832435385466929879)))\\n    (comp (ref U4)\\n      (value HCMS)\\n      (footprint odu-pcb:HCMS_DIP-12_W7.62mm_Socket_LongPads)\\n      (libsource (lib my-symbols) (part HCMS))\\n      (sheetpath (names /top/11700245377210493599) (tstamps /top/11700245377210493599)))\\n    (comp (ref U5)\\n      (value HCMS)\\n      (footprint odu-pcb:HCMS_DIP-12_W7.62mm_Socket_LongPads)\\n      (libsource (lib my-symbols) (part HCMS))\\n      (sheetpath (names /top/8612688640253277224) (tstamps /top/8612688640253277224)))\\n    (comp (ref U6)\\n      (value HCMS)\\n      (footprint odu-pcb:HCMS_DIP-12_W7.62mm_Socket_LongPads)\\n      (libsource (lib my-symbols) (part HCMS))\\n      (sheetpath (names /top/17649046909614991429) (tstamps /top/17649046909614991429)))\\n    (comp (ref U7)\\n      (value HCMS)\\n      (footprint odu-pcb:HCMS_DIP-12_W7.62mm_Socket_LongPads)\\n      (libsource (lib my-symbols) (part HCMS))\\n      (sheetpath (names /top/17550919344416111500) (tstamps /top/17550919344416111500)))\\n    (comp (ref U8)\\n      (value HCMS)\\n      (footprint odu-pcb:HCMS_DIP-12_W7.62mm_Socket_LongPads)\\n      (libsource (lib my-symbols) (part HCMS))\\n      (sheetpath (names /top/18251864300502585263) (tstamps /top/18251864300502585263)))\\n    (comp (ref U9)\\n      (value HCMS)\\n      (footprint odu-pcb:HCMS_DIP-12_W7.62mm_Socket_LongPads)\\n      (libsource (lib my-symbols) (part HCMS))\\n      (sheetpath (names /top/3409566822979322421) (tstamps /top/3409566822979322421))))\\n  (nets\\n    (net (code 0) (name CE)\\n      (node (ref U1) (pin 7))\\n      (node (ref U10) (pin 7))\\n      (node (ref U2) (pin 7))\\n      (node (ref U3) (pin 7))\\n      (node (ref U4) (pin 7))\\n      (node (ref U5) (pin 7))\\n      (node (ref U6) (pin 7))\\n      (node (ref U7) (pin 7))\\n      (node (ref U8) (pin 7))\\n      (node (ref U9) (pin 7)))\\n    (net (code 1) (name CLK)\\n      (node (ref U1) (pin 6))\\n      (node (ref U10) (pin 6))\\n      (node (ref U2) (pin 6))\\n      (node (ref U3) (pin 6))\\n      (node (ref U4) (pin 6))\\n      (node (ref U5) (pin 6))\\n      (node (ref U6) (pin 6))\\n      (node (ref U7) (pin 6))\\n      (node (ref U8) (pin 6))\\n      (node (ref U9) (pin 6)))\\n    (net (code 2) (name GND)\\n      (node (ref U1) (pin 8))\\n      (node (ref U1) (pin 9))\\n      (node (ref U10) (pin 8))\\n      (node (ref U10) (pin 9))\\n      (node (ref U2) (pin 8))\\n      (node (ref U2) (pin 9))\\n      (node (ref U3) (pin 8))\\n      (node (ref U3) (pin 9))\\n      (node (ref U4) (pin 8))\\n      (node (ref U4) (pin 9))\\n      (node (ref U5) (pin 8))\\n      (node (ref U5) (pin 9))\\n      (node (ref U6) (pin 8))\\n      (node (ref U6) (pin 9))\\n      (node (ref U7) (pin 8))\\n      (node (ref U7) (pin 9))\\n      (node (ref U8) (pin 8))\\n      (node (ref U8) (pin 9))\\n      (node (ref U9) (pin 8))\\n      (node (ref U9) (pin 9)))\\n    (net (code 3) (name N$1)\\n      (node (ref U1) (pin 1))\\n      (node (ref U2) (pin 4)))\\n    (net (code 4) (name N$2)\\n      (node (ref U2) (pin 1))\\n      (node (ref U3) (pin 4)))\\n    (net (code 5) (name N$3)\\n      (node (ref U3) (pin 1))\\n      (node (ref U4) (pin 4)))\\n    (net (code 6) (name N$4)\\n      (node (ref U4) (pin 1))\\n      (node (ref U5) (pin 4)))\\n    (net (code 7) (name N$5)\\n      (node (ref U5) (pin 1))\\n      (node (ref U6) (pin 4)))\\n    (net (code 8) (name N$6)\\n      (node (ref U6) (pin 1))\\n      (node (ref U7) (pin 4)))\\n    (net (code 9) (name N$7)\\n      (node (ref U7) (pin 1))\\n      (node (ref U8) (pin 4)))\\n    (net (code 10) (name N$8)\\n      (node (ref U8) (pin 1))\\n      (node (ref U9) (pin 4)))\\n    (net (code 11) (name N$9)\\n      (node (ref U10) (pin 4))\\n      (node (ref U9) (pin 1)))\\n    (net (code 12) (name RESET)\\n      (node (ref U1) (pin 12))\\n      (node (ref U10) (pin 12))\\n      (node (ref U2) (pin 12))\\n      (node (ref U3) (pin 12))\\n      (node (ref U4) (pin 12))\\n      (node (ref U5) (pin 12))\\n      (node (ref U6) (pin 12))\\n      (node (ref U7) (pin 12))\\n      (node (ref U8) (pin 12))\\n      (node (ref U9) (pin 12)))\\n    (net (code 13) (name RS)\\n      (node (ref U1) (pin 5))\\n      (node (ref U10) (pin 5))\\n      (node (ref U2) (pin 5))\\n      (node (ref U3) (pin 5))\\n      (node (ref U4) (pin 5))\\n      (node (ref U5) (pin 5))\\n      (node (ref U6) (pin 5))\\n      (node (ref U7) (pin 5))\\n      (node (ref U8) (pin 5))\\n      (node (ref U9) (pin 5)))\\n    (net (code 14) (name VCC)\\n      (node (ref U1) (pin 10))\\n      (node (ref U1) (pin 11))\\n      (node (ref U1) (pin 3))\\n      (node (ref U10) (pin 10))\\n      (node (ref U10) (pin 11))\\n      (node (ref U10) (pin 3))\\n      (node (ref U2) (pin 10))\\n      (node (ref U2) (pin 11))\\n      (node (ref U2) (pin 3))\\n      (node (ref U3) (pin 10))\\n      (node (ref U3) (pin 11))\\n      (node (ref U3) (pin 3))\\n      (node (ref U4) (pin 10))\\n      (node (ref U4) (pin 11))\\n      (node (ref U4) (pin 3))\\n      (node (ref U5) (pin 10))\\n      (node (ref U5) (pin 11))\\n      (node (ref U5) (pin 3))\\n      (node (ref U6) (pin 10))\\n      (node (ref U6) (pin 11))\\n      (node (ref U6) (pin 3))\\n      (node (ref U7) (pin 10))\\n      (node (ref U7) (pin 11))\\n      (node (ref U7) (pin 3))\\n      (node (ref U8) (pin 10))\\n      (node (ref U8) (pin 11))\\n      (node (ref U8) (pin 3))\\n      (node (ref U9) (pin 10))\\n      (node (ref U9) (pin 11))\\n      (node (ref U9) (pin 3))))\\n)\\n'"
      ]
     },
     "execution_count": 8,
     "metadata": {},
     "output_type": "execute_result"
    }
   ],
   "source": [
    "skidl.reset()\n",
    "\n",
    "displays = []\n",
    "for i in range(10):\n",
    "    displays.append(skidl.Part('my-symbols', 'HCMS', footprint='odu-pcb:HCMS_DIP-12_W7.62mm_Socket_LongPads'))\n",
    "\n",
    "vcc = skidl.Net('VCC')\n",
    "gnd = skidl.Net('GND')\n",
    "ce = skidl.Net('CE')\n",
    "rs = skidl.Net('RS')\n",
    "clk = skidl.Net('CLK')\n",
    "reset = skidl.Net('RESET')\n",
    "\n",
    "for d in displays:\n",
    "    print(d.ref)\n",
    "    d['V_LOGIC'] += vcc\n",
    "    d['V_LED'] += vcc\n",
    "    d['GND'] += gnd\n",
    "    d['SEL'] += vcc\n",
    "    d['/CE'] += ce\n",
    "    d['BLANK'] += gnd\n",
    "    d['RESET'] += reset\n",
    "    d['RS'] += rs\n",
    "    d['CLK'] += clk\n",
    "\n",
    "for a, b in zip(displays, displays[1:]):\n",
    "    a['DATA_OUT'] += b['DATA_IN']\n",
    "\n",
    "skidl.generate_netlist()\n",
    "    "
   ]
  }
 ],
 "metadata": {
  "kernelspec": {
   "display_name": "Python 3",
   "language": "python",
   "name": "python3"
  },
  "language_info": {
   "codemirror_mode": {
    "name": "ipython",
    "version": 3
   },
   "file_extension": ".py",
   "mimetype": "text/x-python",
   "name": "python",
   "nbconvert_exporter": "python",
   "pygments_lexer": "ipython3",
   "version": "3.7.3"
  }
 },
 "nbformat": 4,
 "nbformat_minor": 2
}
